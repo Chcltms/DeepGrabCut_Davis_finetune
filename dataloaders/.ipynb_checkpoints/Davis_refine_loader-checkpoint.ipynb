{
 "cells": [
  {
   "cell_type": "code",
   "execution_count": 1,
   "metadata": {},
   "outputs": [],
   "source": [
    "import os\n",
    "import cv2\n",
    "import numpy as np\n",
    "from torch.utils.data import Dataset"
   ]
  },
  {
   "cell_type": "code",
   "execution_count": null,
   "metadata": {},
   "outputs": [],
   "source": [
    "class Davis_refine_loader(Dataset):\n",
    "    def __init__(self, transform=None):\n",
    "        super().__init__()\n",
    "        \n",
    "        self.transform = transform\n",
    "        self.train_select_file_path = '/home/ningxinLin/davis2018/data/DAVIS/ImageSets/2017/train.txt'\n",
    "        self.train_dirs = self.train_select(self.train_select_file_path)\n",
    "        self.img_base_path = '/home/ningxinLin/davis2018/data/DAVIS/JPEGImages/480p/'\n",
    "        self.mask_base_path = '/home/ningxinLin/davis2018/data/DAVIS/Annotations/480p/'\n",
    "        \n",
    "        self.images = []\n",
    "        self.masks = []\n",
    "        for train_dir in train_dirs:\n",
    "            train_img_dir = os.path.join(self.img_base_path, train_dir)\n",
    "            train_mask_dir = os.path.join(self.mask_base_path, train_dir)\n",
    "            for root, directions, files in os.walk(train_img_dir):\n",
    "                for file in files:\n",
    "                    _image = os.path.join(root, file)\n",
    "                    _mask = os.path.join(root, file[:-4]+'.png')\n",
    "                    assert os.path.isfile(_image)\n",
    "                    assert os.path.isfile(_mask)\n",
    "                    self.images.append(_image)\n",
    "                    self.masks.append(_mask)\n",
    "        \n",
    "        assert (len(self.images)) == len(self.masks)\n",
    "        \n",
    "    def train_select(self, file_path):\n",
    "        f=open(file_path,'r')\n",
    "        lines = f.readlines()\n",
    "        select_dir = []\n",
    "        for line in lines:\n",
    "            line = line.strip()\n",
    "            select_dir.append(line)\n",
    "        return select_dir"
   ]
  }
 ],
 "metadata": {
  "kernelspec": {
   "display_name": "Python 3",
   "language": "python",
   "name": "python3"
  },
  "language_info": {
   "codemirror_mode": {
    "name": "ipython",
    "version": 3
   },
   "file_extension": ".py",
   "mimetype": "text/x-python",
   "name": "python",
   "nbconvert_exporter": "python",
   "pygments_lexer": "ipython3",
   "version": "3.5.2"
  }
 },
 "nbformat": 4,
 "nbformat_minor": 2
}

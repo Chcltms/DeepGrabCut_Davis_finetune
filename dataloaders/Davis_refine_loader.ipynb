{
 "cells": [
  {
   "cell_type": "code",
   "execution_count": 1,
   "metadata": {},
   "outputs": [],
   "source": [
    "import os\n",
    "import cv2\n",
    "import numpy as np\n",
    "from torch.utils.data import Dataset"
   ]
  },
  {
   "cell_type": "code",
   "execution_count": 9,
   "metadata": {},
   "outputs": [],
   "source": [
    "class Davis_refine_loader(Dataset):\n",
    "    def __init__(self, transform=None):\n",
    "        super().__init__()\n",
    "        \n",
    "        self.train_file = '/home/ningxinLin/DeepGrabCut_Davis_finetune/data/Davis2017/train/train.txt'\n",
    "        self.train_list = self.read_list(self.train_file)\n",
    "        self.transform = transform\n",
    "        #print(self.train_list)\n",
    "        \n",
    "    def __getitem__(self, index):\n",
    "            #__img_path, __target_path = self.train_list[index].strip().split(' ')\n",
    "        path = self.train_list[index]\n",
    "        _img_path, _target_path = path.strip().split(' ')\n",
    "        _img = cv2.imread(_img_path)\n",
    "        _img = cv2.cvtColor(_img, cv2.COLOR_BGR2RGB)\n",
    "        _target = cv2.imread(_target_path, 0)\n",
    "        __categorys = np.unique(_target)\n",
    "        for category in __categorys:\n",
    "            if category != 0:\n",
    "                __class_num = category\n",
    "        _target = _target/__class_num\n",
    "            \n",
    "        sample = {'image': _img, 'gt':_target}\n",
    "            \n",
    "        if self.transform is not None:\n",
    "            sample = self.transform(sample)\n",
    "            \n",
    "        return sample\n",
    "        \n",
    "        \n",
    "    def read_list(self, path):\n",
    "        f = open(self.train_file, 'r')\n",
    "        lines = f.readlines()\n",
    "        f.close()\n",
    "        return lines\n",
    "\n",
    "    def __len__(self):\n",
    "        return len(self.train_list)"
   ]
  },
  {
   "cell_type": "code",
   "execution_count": 10,
   "metadata": {},
   "outputs": [],
   "source": []
  },
  {
   "cell_type": "code",
   "execution_count": null,
   "metadata": {},
   "outputs": [],
   "source": []
  },
  {
   "cell_type": "code",
   "execution_count": null,
   "metadata": {},
   "outputs": [],
   "source": []
  }
 ],
 "metadata": {
  "kernelspec": {
   "display_name": "Python 3",
   "language": "python",
   "name": "python3"
  },
  "language_info": {
   "codemirror_mode": {
    "name": "ipython",
    "version": 3
   },
   "file_extension": ".py",
   "mimetype": "text/x-python",
   "name": "python",
   "nbconvert_exporter": "python",
   "pygments_lexer": "ipython3",
   "version": "3.5.2"
  }
 },
 "nbformat": 4,
 "nbformat_minor": 2
}

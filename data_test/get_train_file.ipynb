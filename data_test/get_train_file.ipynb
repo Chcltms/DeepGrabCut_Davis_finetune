{
 "cells": [
  {
   "cell_type": "code",
   "execution_count": 6,
   "metadata": {},
   "outputs": [],
   "source": [
    "import os\n",
    "import cv2\n",
    "import glob"
   ]
  },
  {
   "cell_type": "code",
   "execution_count": 2,
   "metadata": {},
   "outputs": [],
   "source": [
    "f=open('/home/ningxinLin/davis2018/data/DAVIS/ImageSets/2017/train.txt','r')\n",
    "lines = f.readlines()\n",
    "f.close()"
   ]
  },
  {
   "cell_type": "code",
   "execution_count": 4,
   "metadata": {},
   "outputs": [],
   "source": [
    "img_base_path ='/home/ningxinLin/davis2018/data/DAVIS/JPEGImages/480p/'\n",
    "mask_base_path = '/home/ningxinLin/DeepGrabCut_Davis_finetune/data/Davis2017/train/mask/'"
   ]
  },
  {
   "cell_type": "code",
   "execution_count": 19,
   "metadata": {},
   "outputs": [],
   "source": [
    "train_file = open('/home/ningxinLin/DeepGrabCut_Davis_finetune/data/Davis2017/train/train.txt','w')"
   ]
  },
  {
   "cell_type": "code",
   "execution_count": 20,
   "metadata": {},
   "outputs": [],
   "source": [
    "for line in lines:\n",
    "    line = line.strip()\n",
    "    img_dir_path = os.path.join(img_base_path, line)\n",
    "    mask_dir_path = os.path.join(mask_base_path, line)\n",
    "    assert os.path.exists(img_dir_path)\n",
    "    assert os.path.exists(mask_dir_path)\n",
    "    mask_path_list = glob.glob(mask_dir_path+'/*.png')\n",
    "    for mask_path in mask_path_list:\n",
    "        assert os.path.isfile(mask_path)\n",
    "        img_path = os.path.join(img_dir_path,(mask_path.split('/')[-1].split('_')[0]+'.jpg'))\n",
    "        assert os.path.isfile(img_path)\n",
    "        train_file.write(img_path+' '+mask_path+'\\n')\n",
    "train_file.close()"
   ]
  },
  {
   "cell_type": "code",
   "execution_count": null,
   "metadata": {},
   "outputs": [],
   "source": []
  }
 ],
 "metadata": {
  "kernelspec": {
   "display_name": "Python 3",
   "language": "python",
   "name": "python3"
  },
  "language_info": {
   "codemirror_mode": {
    "name": "ipython",
    "version": 3
   },
   "file_extension": ".py",
   "mimetype": "text/x-python",
   "name": "python",
   "nbconvert_exporter": "python",
   "pygments_lexer": "ipython3",
   "version": "3.5.2"
  }
 },
 "nbformat": 4,
 "nbformat_minor": 2
}

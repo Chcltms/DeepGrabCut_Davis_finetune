{
 "cells": [
  {
   "cell_type": "code",
   "execution_count": 15,
   "metadata": {},
   "outputs": [],
   "source": [
    "import os\n",
    "import cv2\n",
    "import matplotlib.pyplot as plt\n",
    "import numpy as np\n",
    "import concurrent.futures\n",
    "import glob\n",
    "%matplotlib inline"
   ]
  },
  {
   "cell_type": "code",
   "execution_count": 2,
   "metadata": {},
   "outputs": [],
   "source": [
    "f=open('/home/ningxinLin/davis2018/data/DAVIS/ImageSets/2017/train.txt','r')\n",
    "lines = f.readlines()\n",
    "f.close()"
   ]
  },
  {
   "cell_type": "code",
   "execution_count": 24,
   "metadata": {},
   "outputs": [],
   "source": [
    "mask_base_path = '/home/ningxinLin/davis2018/data/DAVIS/Annotations/480p/'\n",
    "write_base_path = '/home/ningxinLin/DeepGrabCut_Davis_finetune/data/Davis2017/train/mask/'"
   ]
  },
  {
   "cell_type": "code",
   "execution_count": 35,
   "metadata": {},
   "outputs": [
    {
     "name": "stdout",
     "output_type": "stream",
     "text": [
      "0\n"
     ]
    }
   ],
   "source": [
    "for line in lines:\n",
    "    line = line.strip()\n",
    "    train_mask_dir = os.path.join(mask_base_path, line)\n",
    "    write_path = os.path.join(write_base_path, line)\n",
    "    assert(os.path.exists(train_mask_dir))\n",
    "    if not os.path.exists(write_path):\n",
    "        os.mkdir(write_path)\n",
    "    '''\n",
    "    for root, directions, files in os.walk(train_mask_dir):\n",
    "        for mask in files:\n",
    "            mask_path = os.path.join(root, mask)\n",
    "            assert(os.path.exists(mask_path))\n",
    "            mask = cv2.imread(mask_path,0)\n",
    "            pic_num += (len(np.unique(mask))-1)\n",
    "    '''\n",
    "    with concurrent.futures.ProcessPoolExecutor() as executor:\n",
    "        mask_files = glob.glob(train_mask_dir+'/*.png')\n",
    "        executor.map(get_instance_mask, mask_files)"
   ]
  },
  {
   "cell_type": "code",
   "execution_count": 33,
   "metadata": {},
   "outputs": [],
   "source": [
    "def get_instance_mask(path):\n",
    "    \n",
    "    assert os.path.isfile(path)\n",
    "    base_name = path.split('/')[-1].split('.')[0]\n",
    "    instance_num = 0\n",
    "    mask = cv2.imread(path, 0)\n",
    "    categorys = np.unique(mask)\n",
    "    for category in categorys:\n",
    "        if category == 0:\n",
    "            continue\n",
    "        instance_mask = (mask==category).astype(np.uint8)\n",
    "        cv2.imwrite(write_path+'/'+base_name+'_'+str(instance_num)+'.png',instance_mask)\n",
    "        instance_num += 1"
   ]
  },
  {
   "cell_type": "code",
   "execution_count": 36,
   "metadata": {},
   "outputs": [
    {
     "data": {
      "text/plain": [
       "<matplotlib.image.AxesImage at 0x7f18003ebdd8>"
      ]
     },
     "execution_count": 36,
     "metadata": {},
     "output_type": "execute_result"
    },
    {
     "data": {
      "image/png": "[encoded data removed]",
      "text/plain": [
       "<Figure size 432x288 with 1 Axes>"
      ]
     },
     "metadata": {
      "needs_background": "light"
     },
     "output_type": "display_data"
    }
   ],
   "source": [
    "plt.imshow(cv2.imread('/home/ningxinLin/DeepGrabCut_Davis_finetune/data/Davis2017/train/mask/elephant/00000_0.png',0))"
   ]
  },
  {
   "cell_type": "code",
   "execution_count": null,
   "metadata": {},
   "outputs": [],
   "source": []
  }
 ],
 "metadata": {
  "kernelspec": {
   "display_name": "Python 3",
   "language": "python",
   "name": "python3"
  },
  "language_info": {
   "codemirror_mode": {
    "name": "ipython",
    "version": 3
   },
   "file_extension": ".py",
   "mimetype": "text/x-python",
   "name": "python",
   "nbconvert_exporter": "python",
   "pygments_lexer": "ipython3",
   "version": "3.5.2"
  }
 },
 "nbformat": 4,
 "nbformat_minor": 2
}
